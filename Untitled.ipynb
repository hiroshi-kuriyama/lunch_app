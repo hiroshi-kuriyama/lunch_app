{
 "cells": [
  {
   "cell_type": "code",
   "execution_count": 3,
   "metadata": {},
   "outputs": [
    {
     "name": "stdout",
     "output_type": "stream",
     "text": [
      "['和食', '日本料理', '寿司', '魚介・海鮮料理', 'そば（蕎麦）', 'うどん', 'うなぎ', '焼き鳥', 'とんかつ', '串揚げ', '天ぷら', 'お好み焼き', 'もんじゃ焼き', 'しゃぶしゃぶ', '沖縄料理', '洋食', 'フレンチ', 'イタリアン', 'スペイン料理', 'パスタ', 'ピザ', 'ステーキ', 'ハンバーグ', 'ハンバーガー', '中華料理', '餃子', '韓国料理', 'タイ料理', 'ラーメン', 'カレー', '焼肉', 'ホルモン', '鍋', 'もつ鍋', '居酒屋', 'バイキング', 'カフェ', 'パン屋', 'スイーツ', 'ケーキ', 'バー・お酒', '旅館'] ['/washoku/tokyo/rank/', '/japanese/tokyo/rank/', '/sushi/tokyo/rank/', '/seafood/tokyo/rank/', '/soba/tokyo/rank/', '/udon/tokyo/rank/', '/unagi/tokyo/rank/', '/yakitori/tokyo/rank/', '/tonkatsu/tokyo/rank/', '/kushiage/tokyo/rank/', '/tempura/tokyo/rank/', '/okonomiyaki/tokyo/rank/', '/monjya/tokyo/rank/', '/syabusyabu/tokyo/rank/', '/okinawafood/tokyo/rank/', '/yoshoku/tokyo/rank/', '/french/tokyo/rank/', '/italian/tokyo/rank/', '/spain/tokyo/rank/', '/pasta/tokyo/rank/', '/pizza/tokyo/rank/', '/steak/tokyo/rank/', '/hamburgersteak/tokyo/rank/', '/hamburger/tokyo/rank/', '/chinese/tokyo/rank/', '/gyouza/tokyo/rank/', '/korea/tokyo/rank/', '/thai/tokyo/rank/', '/ramen/tokyo/rank/', '/curry/tokyo/rank/', '/yakiniku/tokyo/rank/', '/horumon/tokyo/rank/', '/nabe/tokyo/rank/', '/motsu/tokyo/rank/', '/izakaya/tokyo/rank/', '/viking/tokyo/rank/', '/cafe/tokyo/rank/', '/pan/tokyo/rank/', '/sweets/tokyo/rank/', '/cake/tokyo/rank/', '/bar/tokyo/rank/', '/ryokan/tokyo/rank/']\n"
     ]
    }
   ],
   "source": [
    "import json\n",
    "import requests\n",
    "from bs4 import BeautifulSoup\n",
    "\n",
    "url = 'https://tabelog.com/tokyo/'\n",
    "resp = requests.get(url)\n",
    "soup = BeautifulSoup(resp.text, 'html.parser')\n",
    "\n",
    "elems = soup.find_all('li', class_=\"areatop-genre-rank__genre-item\")\n",
    "genres = []\n",
    "links = []\n",
    "for e in elems:\n",
    "    if e.find('a') != None:\n",
    "        genres.append(e.getText())\n",
    "        links.append(e.find('a').get('href'))\n",
    "genre_link_dict = dict(zip(genres, links))\n",
    "with open('./static/genres_data/tokyo_genres.json', mode='w') as f:\n",
    "        json.dump(genre_link_dict, f)"
   ]
  },
  {
   "cell_type": "markdown",
   "metadata": {},
   "source": [
    "### TODO\n",
    "1. 地域の範囲が大きい場合は、ジャンルではなく、地域名が表示されてしまうのをどうにかしたい\n",
    "2. ランキング順に選ばれる確率を重み付けしたい。"
   ]
  },
  {
   "cell_type": "code",
   "execution_count": 2,
   "metadata": {},
   "outputs": [],
   "source": [
    "import json\n",
    "import random\n",
    "import requests\n",
    "from bs4 import BeautifulSoup"
   ]
  },
  {
   "cell_type": "code",
   "execution_count": 2,
   "metadata": {},
   "outputs": [],
   "source": [
    "HOME_URL = ''"
   ]
  },
  {
   "cell_type": "code",
   "execution_count": 1,
   "metadata": {},
   "outputs": [],
   "source": [
    "url = 'https://tabelog.com/tokyo/A1304/A130401/R7443/'"
   ]
  },
  {
   "cell_type": "code",
   "execution_count": 3,
   "metadata": {},
   "outputs": [],
   "source": [
    "def get_genre_dict(url):\n",
    "    resp = requests.get(url)\n",
    "    soup = BeautifulSoup(resp.text, 'html.parser')\n",
    "    # ジャンルの要素(li)を取得\n",
    "    elems = soup.find_all('li', class_=\"list-balloon__btn-item\")\n",
    "    # 各ジャンルのURLとジャンル名を辞書に保存\n",
    "    genres = []\n",
    "    urls = []\n",
    "    for e in elems:\n",
    "        if e.find('a') != None:\n",
    "            genres.append(e.getText()[24:-22])\n",
    "            urls.append(e.find('a').get('href'))\n",
    "    genre_dict = dict(zip(urls, genres))\n",
    "    return genre_dict"
   ]
  },
  {
   "cell_type": "code",
   "execution_count": 4,
   "metadata": {},
   "outputs": [],
   "source": [
    "def get_shops_dict(genre_url):\n",
    "    # ジャンルのURLをランチ2000円以内ランキングのURLに修正\n",
    "    genre_rank_url = genre_url + \"?SrtT=rt&LstCosT=2&RdoCosTp=1&Srt=D&sort_mode=1\"\n",
    "    resp = requests.get(genre_rank_url)\n",
    "    soup = BeautifulSoup(resp.text, 'html.parser')\n",
    "    # 店舗ごとに分割\n",
    "    elems = soup.find_all('li', class_=\"list-rst js-bookmark js-rst-cassette-wrap list-rst--ranking\")\n",
    "    # 各店舗のURLに店舗情報の辞書を作成し紐付ける\n",
    "    # 店舗情報は店名、ランキング、画像、星の数\n",
    "    shops_dict = {}\n",
    "    for e in elems:\n",
    "        e_sum = e.find('a', class_='list-rst__rst-name-target cpy-rst-name js-ranking-num')\n",
    "        e_img = e.find('img', class_=\"js-cassette-img cpy-main-image\")\n",
    "        e_rate = e.find('span', class_=\"c-rating__val c-rating__val--strong list-rst__rating-val\")\n",
    "        shop_elem_dict = {\n",
    "            'nm': e_sum.getText(),\n",
    "            'rank': int(e_sum.get('data-ranking')),\n",
    "            'img_url': e_img.get('data-original'),\n",
    "            'rate': float(e_rate.getText())\n",
    "        }\n",
    "        shops_dict[e_sum.get('href')] = shop_elem_dict\n",
    "    return shops_dict"
   ]
  },
  {
   "cell_type": "markdown",
   "metadata": {},
   "source": [
    "1. ある地域のURLからジャンルを取得\n",
    "2. ジャンルからランダムに一つ選ぶ\n",
    "3. そのジャンルのランキングを取得\n",
    "4. ランキングから一つ選ぶ"
   ]
  },
  {
   "cell_type": "code",
   "execution_count": 9,
   "metadata": {},
   "outputs": [],
   "source": [
    "genre_dict = get_genre_dict(url)\n",
    "genre_url, genre_nm = random.choice(list(genre_dict.items()))\n",
    "shop_dcit = get_shops_dict(genre_url)\n",
    "shop_url, shop_elem_dict = random.choice(list(shop_dcit.items()))"
   ]
  },
  {
   "cell_type": "code",
   "execution_count": 10,
   "metadata": {},
   "outputs": [
    {
     "name": "stdout",
     "output_type": "stream",
     "text": [
      "居酒屋 https://tabelog.com/tokyo/A1304/A130401/13129122/ タカマル鮮魚店 2号館 {'nm': 'タカマル鮮魚店 2号館', 'rank': 7, 'img_url': 'https://tblg.k-img.com/restaurant/images/Rvw/8920/150x150_square_8920457.jpg', 'rate': 3.57}\n"
     ]
    }
   ],
   "source": [
    "print(genre_nm, shop_url, shop_elem_dict['nm'], shop_elem_dict)"
   ]
  },
  {
   "cell_type": "code",
   "execution_count": 8,
   "metadata": {},
   "outputs": [
    {
     "data": {
      "text/plain": [
       "'https://tabelog.com/tokyo/A1304/A130401/R7443/rstLst/spain/'"
      ]
     },
     "execution_count": 8,
     "metadata": {},
     "output_type": "execute_result"
    }
   ],
   "source": [
    "genre_url"
   ]
  },
  {
   "cell_type": "code",
   "execution_count": 15,
   "metadata": {},
   "outputs": [],
   "source": [
    "from modules import choice_shop"
   ]
  },
  {
   "cell_type": "code",
   "execution_count": 16,
   "metadata": {},
   "outputs": [
    {
     "data": {
      "text/plain": [
       "{'https://tabelog.com/tokyo/A1304/A130401/R7443/rstLst/washoku/': '和食',\n",
       " 'https://tabelog.com/tokyo/A1304/A130401/R7443/rstLst/japanese/': '日本料理',\n",
       " 'https://tabelog.com/tokyo/A1304/A130401/R7443/rstLst/sushi/': '寿司',\n",
       " 'https://tabelog.com/tokyo/A1304/A130401/R7443/rstLst/seafood/': '魚介・海鮮料理',\n",
       " 'https://tabelog.com/tokyo/A1304/A130401/R7443/rstLst/soba/': 'そば（蕎麦）',\n",
       " 'https://tabelog.com/tokyo/A1304/A130401/R7443/rstLst/udon/': 'うどん',\n",
       " 'https://tabelog.com/tokyo/A1304/A130401/R7443/rstLst/unagi/': 'うなぎ',\n",
       " 'https://tabelog.com/tokyo/A1304/A130401/R7443/rstLst/yakitori/': '焼き鳥',\n",
       " 'https://tabelog.com/tokyo/A1304/A130401/R7443/rstLst/tonkatsu/': 'とんかつ',\n",
       " 'https://tabelog.com/tokyo/A1304/A130401/R7443/rstLst/kushiage/': '串揚げ',\n",
       " 'https://tabelog.com/tokyo/A1304/A130401/R7443/rstLst/tempura/': '天ぷら',\n",
       " 'https://tabelog.com/tokyo/A1304/A130401/R7443/rstLst/okonomiyaki/': 'お好み焼き',\n",
       " 'https://tabelog.com/tokyo/A1304/A130401/R7443/rstLst/monjya/': 'もんじゃ焼き',\n",
       " 'https://tabelog.com/tokyo/A1304/A130401/R7443/rstLst/syabusyabu/': 'しゃぶしゃぶ',\n",
       " 'https://tabelog.com/tokyo/A1304/A130401/R7443/rstLst/okinawafood/': '沖縄料理',\n",
       " 'https://tabelog.com/tokyo/A1304/A130401/R7443/rstLst/yoshoku/': '洋食',\n",
       " 'https://tabelog.com/tokyo/A1304/A130401/R7443/rstLst/french/': 'フレンチ',\n",
       " 'https://tabelog.com/tokyo/A1304/A130401/R7443/rstLst/italian/': 'イタリアン',\n",
       " 'https://tabelog.com/tokyo/A1304/A130401/R7443/rstLst/spain/': 'スペイン料理',\n",
       " 'https://tabelog.com/tokyo/A1304/A130401/R7443/rstLst/pasta/': 'パスタ',\n",
       " 'https://tabelog.com/tokyo/A1304/A130401/R7443/rstLst/pizza/': 'ピザ',\n",
       " 'https://tabelog.com/tokyo/A1304/A130401/R7443/rstLst/steak/': 'ステーキ',\n",
       " 'https://tabelog.com/tokyo/A1304/A130401/R7443/rstLst/hamburgersteak/': 'ハンバーグ',\n",
       " 'https://tabelog.com/tokyo/A1304/A130401/R7443/rstLst/hamburger/': 'ハンバーガー',\n",
       " 'https://tabelog.com/tokyo/A1304/A130401/R7443/rstLst/chinese/': '中華料理',\n",
       " 'https://tabelog.com/tokyo/A1304/A130401/R7443/rstLst/gyouza/': '餃子',\n",
       " 'https://tabelog.com/tokyo/A1304/A130401/R7443/rstLst/korea/': '韓国料理',\n",
       " 'https://tabelog.com/tokyo/A1304/A130401/R7443/rstLst/thai/': 'タイ料理',\n",
       " 'https://tabelog.com/tokyo/A1304/A130401/R7443/rstLst/ramen/': 'ラーメン',\n",
       " 'https://tabelog.com/tokyo/A1304/A130401/R7443/rstLst/curry/': 'カレー',\n",
       " 'https://tabelog.com/tokyo/A1304/A130401/R7443/rstLst/yakiniku/': '焼肉',\n",
       " 'https://tabelog.com/tokyo/A1304/A130401/R7443/rstLst/horumon/': 'ホルモン',\n",
       " 'https://tabelog.com/tokyo/A1304/A130401/R7443/rstLst/nabe/': '鍋',\n",
       " 'https://tabelog.com/tokyo/A1304/A130401/R7443/rstLst/motsu/': 'もつ鍋',\n",
       " 'https://tabelog.com/tokyo/A1304/A130401/R7443/rstLst/izakaya/': '居酒屋',\n",
       " 'https://tabelog.com/tokyo/A1304/A130401/R7443/rstLst/viking/': 'バイキング',\n",
       " 'https://tabelog.com/tokyo/A1304/A130401/R7443/rstLst/cafe/': 'カフェ',\n",
       " 'https://tabelog.com/tokyo/A1304/A130401/R7443/rstLst/pan/': 'パン',\n",
       " 'https://tabelog.com/tokyo/A1304/A130401/R7443/rstLst/sweets/': 'スイーツ',\n",
       " 'https://tabelog.com/tokyo/A1304/A130401/R7443/rstLst/cake/': 'ケーキ',\n",
       " 'https://tabelog.com/tokyo/A1304/A130401/R7443/rstLst/bar/': 'バー・お酒'}"
      ]
     },
     "execution_count": 16,
     "metadata": {},
     "output_type": "execute_result"
    }
   ],
   "source": [
    "choice_shop.get_genre_dict(url)"
   ]
  },
  {
   "cell_type": "code",
   "execution_count": null,
   "metadata": {},
   "outputs": [],
   "source": []
  }
 ],
 "metadata": {
  "kernelspec": {
   "display_name": "Python 3",
   "language": "python",
   "name": "python3"
  },
  "language_info": {
   "codemirror_mode": {
    "name": "ipython",
    "version": 3
   },
   "file_extension": ".py",
   "mimetype": "text/x-python",
   "name": "python",
   "nbconvert_exporter": "python",
   "pygments_lexer": "ipython3",
   "version": "3.7.3"
  }
 },
 "nbformat": 4,
 "nbformat_minor": 2
}
