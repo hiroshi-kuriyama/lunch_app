{
 "cells": [
  {
   "cell_type": "code",
   "execution_count": 3,
   "metadata": {},
   "outputs": [
    {
     "name": "stdout",
     "output_type": "stream",
     "text": [
      "['和食', '日本料理', '寿司', '魚介・海鮮料理', 'そば（蕎麦）', 'うどん', 'うなぎ', '焼き鳥', 'とんかつ', '串揚げ', '天ぷら', 'お好み焼き', 'もんじゃ焼き', 'しゃぶしゃぶ', '沖縄料理', '洋食', 'フレンチ', 'イタリアン', 'スペイン料理', 'パスタ', 'ピザ', 'ステーキ', 'ハンバーグ', 'ハンバーガー', '中華料理', '餃子', '韓国料理', 'タイ料理', 'ラーメン', 'カレー', '焼肉', 'ホルモン', '鍋', 'もつ鍋', '居酒屋', 'バイキング', 'カフェ', 'パン屋', 'スイーツ', 'ケーキ', 'バー・お酒', '旅館'] ['/washoku/tokyo/rank/', '/japanese/tokyo/rank/', '/sushi/tokyo/rank/', '/seafood/tokyo/rank/', '/soba/tokyo/rank/', '/udon/tokyo/rank/', '/unagi/tokyo/rank/', '/yakitori/tokyo/rank/', '/tonkatsu/tokyo/rank/', '/kushiage/tokyo/rank/', '/tempura/tokyo/rank/', '/okonomiyaki/tokyo/rank/', '/monjya/tokyo/rank/', '/syabusyabu/tokyo/rank/', '/okinawafood/tokyo/rank/', '/yoshoku/tokyo/rank/', '/french/tokyo/rank/', '/italian/tokyo/rank/', '/spain/tokyo/rank/', '/pasta/tokyo/rank/', '/pizza/tokyo/rank/', '/steak/tokyo/rank/', '/hamburgersteak/tokyo/rank/', '/hamburger/tokyo/rank/', '/chinese/tokyo/rank/', '/gyouza/tokyo/rank/', '/korea/tokyo/rank/', '/thai/tokyo/rank/', '/ramen/tokyo/rank/', '/curry/tokyo/rank/', '/yakiniku/tokyo/rank/', '/horumon/tokyo/rank/', '/nabe/tokyo/rank/', '/motsu/tokyo/rank/', '/izakaya/tokyo/rank/', '/viking/tokyo/rank/', '/cafe/tokyo/rank/', '/pan/tokyo/rank/', '/sweets/tokyo/rank/', '/cake/tokyo/rank/', '/bar/tokyo/rank/', '/ryokan/tokyo/rank/']\n"
     ]
    }
   ],
   "source": [
    "import json\n",
    "import requests\n",
    "from bs4 import BeautifulSoup\n",
    "\n",
    "url = 'https://tabelog.com/tokyo/'\n",
    "resp = requests.get(url)\n",
    "soup = BeautifulSoup(resp.text, 'html.parser')\n",
    "\n",
    "elems = soup.find_all('li', class_=\"areatop-genre-rank__genre-item\")\n",
    "genres = []\n",
    "links = []\n",
    "for e in elems:\n",
    "    if e.find('a') != None:\n",
    "        genres.append(e.getText())\n",
    "        links.append(e.find('a').get('href'))\n",
    "genre_link_dict = dict(zip(genres, links))\n",
    "with open('./static/genres_data/tokyo_genres.json', mode='w') as f:\n",
    "        json.dump(genre_link_dict, f)"
   ]
  },
  {
   "cell_type": "markdown",
   "metadata": {},
   "source": [
    "## TODO:地域の範囲が大きい場合は、ジャンルではなく、地域名が表示されてしまうのをどうにかしたい"
   ]
  },
  {
   "cell_type": "code",
   "execution_count": 1,
   "metadata": {},
   "outputs": [],
   "source": [
    "import json\n",
    "import requests\n",
    "from bs4 import BeautifulSoup"
   ]
  },
  {
   "cell_type": "code",
   "execution_count": 47,
   "metadata": {},
   "outputs": [],
   "source": [
    "HOME_URL = 'https://tabelog.com'"
   ]
  },
  {
   "cell_type": "code",
   "execution_count": 83,
   "metadata": {},
   "outputs": [],
   "source": [
    "def genre_link_dict(url_regional):\n",
    "    url = HOME_URL + url_regional\n",
    "    resp = requests.get(url)\n",
    "    soup = BeautifulSoup(resp.text, 'html.parser')\n",
    "\n",
    "    elems = soup.find_all('li', class_=\"list-balloon__btn-item\")\n",
    "    genres = []\n",
    "    links = []\n",
    "    for e in elems:\n",
    "        if e.find('a') != None:\n",
    "            genres.append(e.getText()[24:-22])\n",
    "            links.append(e.find('a').get('href'))\n",
    "    genre_link_dict = dict(zip(genres, links))\n",
    "    return genre_link_dict"
   ]
  },
  {
   "cell_type": "code",
   "execution_count": 84,
   "metadata": {},
   "outputs": [],
   "source": [
    "url_regional = '/tokyo/A1303/A130301/'"
   ]
  },
  {
   "cell_type": "code",
   "execution_count": 102,
   "metadata": {},
   "outputs": [],
   "source": [
    "import random\n",
    "genre_nm, genre_url = random.choice(list(genre_link_dict(url_regional).items()))"
   ]
  },
  {
   "cell_type": "code",
   "execution_count": 103,
   "metadata": {},
   "outputs": [
    {
     "data": {
      "text/plain": [
       "'沖縄料理'"
      ]
     },
     "execution_count": 103,
     "metadata": {},
     "output_type": "execute_result"
    }
   ],
   "source": [
    "genre_nm"
   ]
  },
  {
   "cell_type": "code",
   "execution_count": 104,
   "metadata": {},
   "outputs": [
    {
     "data": {
      "text/plain": [
       "'https://tabelog.com/tokyo/A1303/A130301/rstLst/okinawafood/'"
      ]
     },
     "execution_count": 104,
     "metadata": {},
     "output_type": "execute_result"
    }
   ],
   "source": [
    "genre_url"
   ]
  },
  {
   "cell_type": "markdown",
   "metadata": {},
   "source": [
    "?SrtT=rt&LstCosT=2&RdoCosTp=1&Srt=D&sort_mode=1"
   ]
  },
  {
   "cell_type": "code",
   "execution_count": 105,
   "metadata": {},
   "outputs": [],
   "source": [
    "genre_rank_url = genre_url + \"?SrtT=rt&LstCosT=2&RdoCosTp=1&Srt=D&sort_mode=1\""
   ]
  },
  {
   "cell_type": "code",
   "execution_count": 106,
   "metadata": {},
   "outputs": [
    {
     "data": {
      "text/plain": [
       "'https://tabelog.com/tokyo/A1303/A130301/rstLst/okinawafood/?SrtT=rt&LstCosT=2&RdoCosTp=1&Srt=D&sort_mode=1'"
      ]
     },
     "execution_count": 106,
     "metadata": {},
     "output_type": "execute_result"
    }
   ],
   "source": [
    "genre_rank_url"
   ]
  },
  {
   "cell_type": "code",
   "execution_count": 107,
   "metadata": {},
   "outputs": [],
   "source": [
    "resp = requests.get(genre_rank_url)\n",
    "soup = BeautifulSoup(resp.text, 'html.parser')"
   ]
  },
  {
   "cell_type": "code",
   "execution_count": 108,
   "metadata": {},
   "outputs": [],
   "source": [
    "elems = soup.find_all('img', class_=\"js-cassette-img cpy-main-image\")"
   ]
  },
  {
   "cell_type": "code",
   "execution_count": 36,
   "metadata": {},
   "outputs": [],
   "source": [
    "elems_a = elems"
   ]
  },
  {
   "cell_type": "code",
   "execution_count": 109,
   "metadata": {},
   "outputs": [
    {
     "data": {
      "text/plain": [
       "<img alt=\"かんから食堂\" class=\"js-cassette-img cpy-main-image\" data-img-id=\"63339106\" data-img-index=\"0\" data-original=\"https://tblg.k-img.com/restaurant/images/Rvw/63339/150x150_square_63339106.jpg\" height=\"150\" src=\"data:image/gif;base64,R0lGODlhAQABAIAAAAAAAP///yH5BAEAAAAALAAAAAABAAEAAAIBRAA7\" width=\"150\"/>"
      ]
     },
     "execution_count": 109,
     "metadata": {},
     "output_type": "execute_result"
    }
   ],
   "source": [
    "elems[0]"
   ]
  },
  {
   "cell_type": "code",
   "execution_count": 112,
   "metadata": {},
   "outputs": [
    {
     "data": {
      "text/plain": [
       "'かんから食堂'"
      ]
     },
     "execution_count": 112,
     "metadata": {},
     "output_type": "execute_result"
    }
   ],
   "source": [
    "elems[0].get('alt')"
   ]
  },
  {
   "cell_type": "code",
   "execution_count": 114,
   "metadata": {},
   "outputs": [
    {
     "data": {
      "text/plain": [
       "'https://tblg.k-img.com/restaurant/images/Rvw/63339/150x150_square_63339106.jpg'"
      ]
     },
     "execution_count": 114,
     "metadata": {},
     "output_type": "execute_result"
    }
   ],
   "source": [
    "elems[0].get('data-original')"
   ]
  },
  {
   "cell_type": "code",
   "execution_count": 115,
   "metadata": {},
   "outputs": [
    {
     "data": {
      "text/plain": [
       "[<img alt=\"かんから食堂\" class=\"js-cassette-img cpy-main-image\" data-img-id=\"63339106\" data-img-index=\"0\" data-original=\"https://tblg.k-img.com/restaurant/images/Rvw/63339/150x150_square_63339106.jpg\" height=\"150\" src=\"data:image/gif;base64,R0lGODlhAQABAIAAAAAAAP///yH5BAEAAAAALAAAAAABAAEAAAIBRAA7\" width=\"150\"/>,\n",
       " <img alt=\"やんばる 渋谷店\" class=\"js-cassette-img cpy-main-image\" data-img-id=\"19366127\" data-img-index=\"0\" data-original=\"https://tblg.k-img.com/restaurant/images/Rvw/19365/150x150_square_19365908.jpg\" height=\"150\" src=\"data:image/gif;base64,R0lGODlhAQABAIAAAAAAAP///yH5BAEAAAAALAAAAAABAAEAAAIBRAA7\" width=\"150\"/>,\n",
       " <img alt=\"土濱笑店\" class=\"js-cassette-img cpy-main-image\" data-img-id=\"20263251\" data-img-index=\"0\" data-original=\"https://tblg.k-img.com/restaurant/images/Rvw/20263/150x150_square_20263251.jpg\" height=\"150\" src=\"data:image/gif;base64,R0lGODlhAQABAIAAAAAAAP///yH5BAEAAAAALAAAAAABAAEAAAIBRAA7\" width=\"150\"/>,\n",
       " <img alt=\"む鉄砲\" class=\"js-cassette-img cpy-main-image\" data-img-id=\"106705675\" data-img-index=\"0\" data-original=\"https://tblg.k-img.com/restaurant/images/Rvw/106705/150x150_square_106705675.jpg\" height=\"150\" src=\"data:image/gif;base64,R0lGODlhAQABAIAAAAAAAP///yH5BAEAAAAALAAAAAABAAEAAAIBRAA7\" width=\"150\"/>,\n",
       " <img alt=\"琉球・梅酒ダイニング　てぃーだ 渋谷店\" class=\"js-cassette-img cpy-main-image\" data-img-id=\"53425937\" data-img-index=\"0\" data-original=\"https://tblg.k-img.com/restaurant/images/Rvw/53425/150x150_square_53425937.jpg\" height=\"150\" src=\"data:image/gif;base64,R0lGODlhAQABAIAAAAAAAP///yH5BAEAAAAALAAAAAABAAEAAAIBRAA7\" width=\"150\"/>,\n",
       " <img alt=\"う～みや 渋谷道玄坂店\" class=\"js-cassette-img cpy-main-image\" data-img-id=\"91284107\" data-img-index=\"0\" data-original=\"https://tblg.k-img.com/restaurant/images/Rvw/91284/150x150_square_91284107.jpg\" height=\"150\" src=\"data:image/gif;base64,R0lGODlhAQABAIAAAAAAAP///yH5BAEAAAAALAAAAAABAAEAAAIBRAA7\" width=\"150\"/>]"
      ]
     },
     "execution_count": 115,
     "metadata": {},
     "output_type": "execute_result"
    }
   ],
   "source": [
    "elems"
   ]
  },
  {
   "cell_type": "code",
   "execution_count": null,
   "metadata": {},
   "outputs": [],
   "source": []
  }
 ],
 "metadata": {
  "kernelspec": {
   "display_name": "Python 3",
   "language": "python",
   "name": "python3"
  },
  "language_info": {
   "codemirror_mode": {
    "name": "ipython",
    "version": 3
   },
   "file_extension": ".py",
   "mimetype": "text/x-python",
   "name": "python",
   "nbconvert_exporter": "python",
   "pygments_lexer": "ipython3",
   "version": "3.7.3"
  }
 },
 "nbformat": 4,
 "nbformat_minor": 2
}
