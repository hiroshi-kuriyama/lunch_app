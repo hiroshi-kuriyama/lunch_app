{
 "cells": [
  {
   "cell_type": "code",
   "execution_count": 3,
   "metadata": {},
   "outputs": [
    {
     "name": "stdout",
     "output_type": "stream",
     "text": [
      "['和食', '日本料理', '寿司', '魚介・海鮮料理', 'そば（蕎麦）', 'うどん', 'うなぎ', '焼き鳥', 'とんかつ', '串揚げ', '天ぷら', 'お好み焼き', 'もんじゃ焼き', 'しゃぶしゃぶ', '沖縄料理', '洋食', 'フレンチ', 'イタリアン', 'スペイン料理', 'パスタ', 'ピザ', 'ステーキ', 'ハンバーグ', 'ハンバーガー', '中華料理', '餃子', '韓国料理', 'タイ料理', 'ラーメン', 'カレー', '焼肉', 'ホルモン', '鍋', 'もつ鍋', '居酒屋', 'バイキング', 'カフェ', 'パン屋', 'スイーツ', 'ケーキ', 'バー・お酒', '旅館'] ['/washoku/tokyo/rank/', '/japanese/tokyo/rank/', '/sushi/tokyo/rank/', '/seafood/tokyo/rank/', '/soba/tokyo/rank/', '/udon/tokyo/rank/', '/unagi/tokyo/rank/', '/yakitori/tokyo/rank/', '/tonkatsu/tokyo/rank/', '/kushiage/tokyo/rank/', '/tempura/tokyo/rank/', '/okonomiyaki/tokyo/rank/', '/monjya/tokyo/rank/', '/syabusyabu/tokyo/rank/', '/okinawafood/tokyo/rank/', '/yoshoku/tokyo/rank/', '/french/tokyo/rank/', '/italian/tokyo/rank/', '/spain/tokyo/rank/', '/pasta/tokyo/rank/', '/pizza/tokyo/rank/', '/steak/tokyo/rank/', '/hamburgersteak/tokyo/rank/', '/hamburger/tokyo/rank/', '/chinese/tokyo/rank/', '/gyouza/tokyo/rank/', '/korea/tokyo/rank/', '/thai/tokyo/rank/', '/ramen/tokyo/rank/', '/curry/tokyo/rank/', '/yakiniku/tokyo/rank/', '/horumon/tokyo/rank/', '/nabe/tokyo/rank/', '/motsu/tokyo/rank/', '/izakaya/tokyo/rank/', '/viking/tokyo/rank/', '/cafe/tokyo/rank/', '/pan/tokyo/rank/', '/sweets/tokyo/rank/', '/cake/tokyo/rank/', '/bar/tokyo/rank/', '/ryokan/tokyo/rank/']\n"
     ]
    }
   ],
   "source": [
    "import json\n",
    "import requests\n",
    "from bs4 import BeautifulSoup\n",
    "\n",
    "url = 'https://tabelog.com/tokyo/'\n",
    "resp = requests.get(url)\n",
    "soup = BeautifulSoup(resp.text, 'html.parser')\n",
    "\n",
    "elems = soup.find_all('li', class_=\"areatop-genre-rank__genre-item\")\n",
    "genres = []\n",
    "links = []\n",
    "for e in elems:\n",
    "    if e.find('a') != None:\n",
    "        genres.append(e.getText())\n",
    "        links.append(e.find('a').get('href'))\n",
    "genre_link_dict = dict(zip(genres, links))\n",
    "with open('./static/genres_data/tokyo_genres.json', mode='w') as f:\n",
    "    json.dump(genre_link_dict, f)"
   ]
  },
  {
   "cell_type": "code",
   "execution_count": 4,
   "metadata": {},
   "outputs": [],
   "source": [
    "import json\n",
    "with open('./static/genres_data/tokyo_genres.json', mode='r') as f:\n",
    "    genre_dict = json.load(f)"
   ]
  },
  {
   "cell_type": "code",
   "execution_count": null,
   "metadata": {},
   "outputs": [],
   "source": [
    "genre_dict."
   ]
  },
  {
   "cell_type": "code",
   "execution_count": 11,
   "metadata": {},
   "outputs": [
    {
     "name": "stdout",
     "output_type": "stream",
     "text": [
      "和食 /washoku/tokyo/rank/\n",
      "日本料理 /japanese/tokyo/rank/\n",
      "寿司 /sushi/tokyo/rank/\n",
      "魚介・海鮮料理 /seafood/tokyo/rank/\n",
      "そば（蕎麦） /soba/tokyo/rank/\n",
      "うどん /udon/tokyo/rank/\n",
      "うなぎ /unagi/tokyo/rank/\n",
      "焼き鳥 /yakitori/tokyo/rank/\n",
      "とんかつ /tonkatsu/tokyo/rank/\n",
      "串揚げ /kushiage/tokyo/rank/\n",
      "天ぷら /tempura/tokyo/rank/\n",
      "お好み焼き /okonomiyaki/tokyo/rank/\n",
      "もんじゃ焼き /monjya/tokyo/rank/\n",
      "しゃぶしゃぶ /syabusyabu/tokyo/rank/\n",
      "沖縄料理 /okinawafood/tokyo/rank/\n",
      "洋食 /yoshoku/tokyo/rank/\n",
      "フレンチ /french/tokyo/rank/\n",
      "イタリアン /italian/tokyo/rank/\n",
      "スペイン料理 /spain/tokyo/rank/\n",
      "パスタ /pasta/tokyo/rank/\n",
      "ピザ /pizza/tokyo/rank/\n",
      "ステーキ /steak/tokyo/rank/\n",
      "ハンバーグ /hamburgersteak/tokyo/rank/\n",
      "ハンバーガー /hamburger/tokyo/rank/\n",
      "中華料理 /chinese/tokyo/rank/\n",
      "餃子 /gyouza/tokyo/rank/\n",
      "韓国料理 /korea/tokyo/rank/\n",
      "タイ料理 /thai/tokyo/rank/\n",
      "ラーメン /ramen/tokyo/rank/\n",
      "カレー /curry/tokyo/rank/\n",
      "焼肉 /yakiniku/tokyo/rank/\n",
      "ホルモン /horumon/tokyo/rank/\n",
      "鍋 /nabe/tokyo/rank/\n",
      "もつ鍋 /motsu/tokyo/rank/\n",
      "居酒屋 /izakaya/tokyo/rank/\n",
      "バイキング /viking/tokyo/rank/\n",
      "カフェ /cafe/tokyo/rank/\n",
      "パン屋 /pan/tokyo/rank/\n",
      "スイーツ /sweets/tokyo/rank/\n",
      "ケーキ /cake/tokyo/rank/\n",
      "バー・お酒 /bar/tokyo/rank/\n",
      "旅館 /ryokan/tokyo/rank/\n"
     ]
    }
   ],
   "source": [
    "for genre, link in genre_dict.items():\n",
    "    print(genre, link)"
   ]
  },
  {
   "cell_type": "code",
   "execution_count": null,
   "metadata": {},
   "outputs": [],
   "source": []
  }
 ],
 "metadata": {
  "kernelspec": {
   "display_name": "Python 3",
   "language": "python",
   "name": "python3"
  },
  "language_info": {
   "codemirror_mode": {
    "name": "ipython",
    "version": 3
   },
   "file_extension": ".py",
   "mimetype": "text/x-python",
   "name": "python",
   "nbconvert_exporter": "python",
   "pygments_lexer": "ipython3",
   "version": "3.6.5"
  }
 },
 "nbformat": 4,
 "nbformat_minor": 2
}
